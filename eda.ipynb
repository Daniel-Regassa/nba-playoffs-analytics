{
 "cells": [
  {
   "cell_type": "code",
   "execution_count": 1,
   "id": "2769b26c",
   "metadata": {},
   "outputs": [],
   "source": [
    "import pandas as pd\n",
    "\n",
    "playoffs_df = pd.read_csv('cleaned_playoffs.csv')"
   ]
  },
  {
   "cell_type": "markdown",
   "id": "378809ae",
   "metadata": {},
   "source": [
    "## How often did the team with home court advantage win?"
   ]
  },
  {
   "cell_type": "code",
   "execution_count": 2,
   "id": "4d1090c2",
   "metadata": {},
   "outputs": [
    {
     "data": {
      "text/plain": [
       "0.7348586810228802"
      ]
     },
     "execution_count": 2,
     "metadata": {},
     "output_type": "execute_result"
    }
   ],
   "source": [
    "num_home_team_wins = playoffs_df[playoffs_df['WinningTeam'] == 1].shape[0]\n",
    "\n",
    "num_series = playoffs_df.shape[0]\n",
    "\n",
    "num_home_team_wins / num_series"
   ]
  },
  {
   "cell_type": "markdown",
   "id": "25088422",
   "metadata": {},
   "source": [
    "### The team with home court advantage won 73.5% of the time"
   ]
  },
  {
   "cell_type": "markdown",
   "id": "c221ab54",
   "metadata": {},
   "source": [
    "## The first round is notoroius for being an easy round for the top 4 seeds, lets redo the above question excluding round 1."
   ]
  },
  {
   "cell_type": "code",
   "execution_count": 3,
   "id": "6f22192b",
   "metadata": {},
   "outputs": [],
   "source": [
    "is_round1 = (playoffs_df['Round'] == 'Round 1')  \n",
    "no_round1_df = playoffs_df.drop(playoffs_df[is_round1].index)"
   ]
  },
  {
   "cell_type": "code",
   "execution_count": 4,
   "id": "06a3c2b8",
   "metadata": {},
   "outputs": [
    {
     "data": {
      "text/plain": [
       "0.7161125319693095"
      ]
     },
     "execution_count": 4,
     "metadata": {},
     "output_type": "execute_result"
    }
   ],
   "source": [
    "num_home_team_wins = no_round1_df[no_round1_df['WinningTeam'] == 1].shape[0]\n",
    "\n",
    "num_series = no_round1_df.shape[0]\n",
    "\n",
    "num_home_team_wins / num_series"
   ]
  },
  {
   "cell_type": "markdown",
   "id": "708333ee",
   "metadata": {},
   "source": [
    "### Surprisingly, there isnt that much of a drop off after round 1, with the home team winning 71.6% of the time."
   ]
  },
  {
   "cell_type": "markdown",
   "id": "c59d7c54",
   "metadata": {},
   "source": [
    "## Let's see how often the home court team won during each round."
   ]
  },
  {
   "cell_type": "code",
   "execution_count": 5,
   "id": "0c9776cf",
   "metadata": {},
   "outputs": [],
   "source": [
    "home_team_wins_df = playoffs_df[playoffs_df['WinningTeam'] == 1]\n",
    "\n",
    "\n",
    "results = home_team_wins_df.groupby(['Round'])['WinningTeam'].count() /  \\\n",
    "            playoffs_df.groupby(['Round'])['WinningTeam'].count()\n"
   ]
  },
  {
   "cell_type": "code",
   "execution_count": 6,
   "id": "5412d5ab",
   "metadata": {},
   "outputs": [
    {
     "data": {
      "text/plain": [
       "Round\n",
       "Conf Semis     0.767857\n",
       "Round 1        0.755682\n",
       "NBA Finals     0.690909\n",
       "Conf Finals    0.630631\n",
       "Name: WinningTeam, dtype: float64"
      ]
     },
     "execution_count": 6,
     "metadata": {},
     "output_type": "execute_result"
    }
   ],
   "source": [
    "results.sort_values(ascending=False)"
   ]
  },
  {
   "cell_type": "code",
   "execution_count": 18,
   "id": "5c63420b",
   "metadata": {},
   "outputs": [
    {
     "data": {
      "text/plain": [
       "<AxesSubplot: xlabel='Round'>"
      ]
     },
     "execution_count": 18,
     "metadata": {},
     "output_type": "execute_result"
    },
    {
     "data": {
      "image/png": "[encoded data removed]",
      "text/plain": [
       "<Figure size 640x480 with 1 Axes>"
      ]
     },
     "metadata": {},
     "output_type": "display_data"
    }
   ],
   "source": [
    "results.sort_values(ascending=False).plot.bar()"
   ]
  },
  {
   "cell_type": "markdown",
   "id": "e126205f",
   "metadata": {},
   "source": [
    "### In the Conference Semifinals home court advantage matters the most, with the home court team winning 76.8% of the time\n",
    "\n",
    "### In the Conference Finals home court advantage matters the least, with the home court team winning 63.1% of the time"
   ]
  },
  {
   "cell_type": "markdown",
   "id": "f829c630",
   "metadata": {},
   "source": [
    "## How often did the favorites actually win?"
   ]
  },
  {
   "cell_type": "code",
   "execution_count": 7,
   "id": "2cf408c6",
   "metadata": {},
   "outputs": [],
   "source": [
    "to_drop = (playoffs_df['Odds1'].isnull() | playoffs_df['Odds2'].isnull())\n",
    "with_odds_df = playoffs_df.drop(playoffs_df[to_drop].index)"
   ]
  },
  {
   "cell_type": "code",
   "execution_count": 8,
   "id": "c3ffa075",
   "metadata": {},
   "outputs": [
    {
     "data": {
      "text/plain": [
       "0.7604166666666666"
      ]
     },
     "execution_count": 8,
     "metadata": {},
     "output_type": "execute_result"
    }
   ],
   "source": [
    "\n",
    "num_series = with_odds_df.shape[0]\n",
    "\n",
    "\n",
    "favorites_win1_filter = (with_odds_df['WinningTeam'] == 1) & (with_odds_df['Odds1'] < 0)\n",
    "favorites_win2_filter = (with_odds_df['WinningTeam'] == 2) & (with_odds_df['Odds2'] < 0)\n",
    "\n",
    "favorites_win_filter = favorites_win1_filter | favorites_win2_filter\n",
    "\n",
    "favorites_win_df = with_odds_df[favorites_win_filter]\n",
    "\n",
    "\n",
    "favorites_win_df.shape[0] / num_series"
   ]
  },
  {
   "cell_type": "markdown",
   "id": "6ad26b7e",
   "metadata": {},
   "source": [
    "### The team favored to win wins 76% of the time"
   ]
  },
  {
   "cell_type": "code",
   "execution_count": 9,
   "id": "e44877e7",
   "metadata": {},
   "outputs": [
    {
     "data": {
      "text/plain": [
       "0.23958333333333334"
      ]
     },
     "execution_count": 9,
     "metadata": {},
     "output_type": "execute_result"
    }
   ],
   "source": [
    "underdogs_win_df = with_odds_df[~favorites_win_filter]\n",
    "\n",
    "underdogs_win_df.shape[0] / num_series\n"
   ]
  },
  {
   "cell_type": "markdown",
   "id": "4b3c2da0",
   "metadata": {},
   "source": [
    "### While the underdogs win 24% of the time. "
   ]
  },
  {
   "cell_type": "markdown",
   "id": "55fd7b2c",
   "metadata": {},
   "source": [
    "## What seed were the NBA champions historically?"
   ]
  },
  {
   "cell_type": "code",
   "execution_count": 10,
   "id": "be6d5481",
   "metadata": {},
   "outputs": [],
   "source": [
    "finals_df = playoffs_df[playoffs_df['Round'] == 'NBA Finals']"
   ]
  },
  {
   "cell_type": "code",
   "execution_count": 12,
   "id": "6a6b2247",
   "metadata": {},
   "outputs": [],
   "source": [
    "champs1_df = finals_df[finals_df['WinningTeam'] == 1]\n",
    "champs2_df = finals_df[finals_df['WinningTeam'] == 2]"
   ]
  },
  {
   "cell_type": "code",
   "execution_count": 14,
   "id": "4dfc14e9",
   "metadata": {},
   "outputs": [
    {
     "data": {
      "text/plain": [
       "1    35\n",
       "2    10\n",
       "3     9\n",
       "6     1\n",
       "dtype: int64"
      ]
     },
     "execution_count": 14,
     "metadata": {},
     "output_type": "execute_result"
    }
   ],
   "source": [
    "vc1 = champs1_df['Seed1'].value_counts()\n",
    "vc2 = champs2_df['Seed2'].value_counts()\n",
    "\n",
    "\n",
    "champ_seed_count = vc1.combine(vc2, lambda x, y: x + y, fill_value=0)\n",
    "champ_seed_count"
   ]
  },
  {
   "cell_type": "code",
   "execution_count": 15,
   "id": "8b883a04",
   "metadata": {},
   "outputs": [
    {
     "data": {
      "text/plain": [
       "<AxesSubplot: >"
      ]
     },
     "execution_count": 15,
     "metadata": {},
     "output_type": "execute_result"
    },
    {
     "data": {
      "image/png": "[encoded data removed]",
      "text/plain": [
       "<Figure size 640x480 with 1 Axes>"
      ]
     },
     "metadata": {},
     "output_type": "display_data"
    }
   ],
   "source": [
    "champ_seed_count.plot.pie()"
   ]
  },
  {
   "cell_type": "code",
   "execution_count": 16,
   "id": "bbcc2422",
   "metadata": {},
   "outputs": [
    {
     "data": {
      "text/plain": [
       "1    0.636364\n",
       "2    0.181818\n",
       "3    0.163636\n",
       "6    0.018182\n",
       "dtype: float64"
      ]
     },
     "execution_count": 16,
     "metadata": {},
     "output_type": "execute_result"
    }
   ],
   "source": [
    "champ_seed_count / champ_seed_count.sum()"
   ]
  },
  {
   "cell_type": "markdown",
   "id": "369143f4",
   "metadata": {},
   "source": [
    "### Historically speaking, the 1st seed in their conference has gone on to win the title 64% of the time.\n"
   ]
  },
  {
   "cell_type": "markdown",
   "id": "aaa0d9c1",
   "metadata": {},
   "source": [
    "### The 2nd seed in their conference has won it all 18% of the time.\n"
   ]
  },
  {
   "cell_type": "markdown",
   "id": "f57db78d",
   "metadata": {},
   "source": [
    "### The 3rd seed in their conference has won it all 16% of the time.\n"
   ]
  },
  {
   "cell_type": "markdown",
   "id": "2ab23800",
   "metadata": {},
   "source": [
    "### Only once in NBA history has the 6th seed won the championship."
   ]
  },
  {
   "cell_type": "markdown",
   "id": "67805575",
   "metadata": {},
   "source": [
    "## What was the average length of a series during each round?"
   ]
  },
  {
   "cell_type": "code",
   "execution_count": null,
   "id": "fe8248a7",
   "metadata": {},
   "outputs": [],
   "source": [
    "# In the years before 2003, round 1 was not a best of 7\n",
    "# We shall drop these series\n",
    "\n",
    "bo7_filter = ~((playoffs_df['Year'] < 2003) & (playoffs_df['Round'] == 'Round 1'))\n",
    "\n",
    "bo7_df = playoffs_df[bo7_filter]"
   ]
  },
  {
   "cell_type": "code",
   "execution_count": 24,
   "id": "25fb666f",
   "metadata": {},
   "outputs": [
    {
     "data": {
      "text/plain": [
       "Round\n",
       "Conf Finals    5.675676\n",
       "Conf Semis     5.696429\n",
       "NBA Finals     5.690909\n",
       "Round 1        5.470238\n",
       "Name: SeriesLength, dtype: float64"
      ]
     },
     "execution_count": 24,
     "metadata": {},
     "output_type": "execute_result"
    }
   ],
   "source": [
    "bo7_df.groupby('Round')['SeriesLength'].mean()"
   ]
  },
  {
   "cell_type": "markdown",
   "id": "66a3f546",
   "metadata": {},
   "source": [
    "### All rounds expect to go either 5 or 6 games, even the first round where pairings are more lopsided"
   ]
  },
  {
   "cell_type": "code",
   "execution_count": 52,
   "id": "1bc104ef",
   "metadata": {},
   "outputs": [
    {
     "data": {
      "text/plain": [
       "[Text(0.5, 0, 'Length of Series')]"
      ]
     },
     "execution_count": 52,
     "metadata": {},
     "output_type": "execute_result"
    },
    {
     "data": {
      "image/png": "[encoded data removed]",
      "text/plain": [
       "<Figure size 700x700 with 4 Axes>"
      ]
     },
     "metadata": {},
     "output_type": "display_data"
    }
   ],
   "source": [
    "from matplotlib import pyplot as plt\n",
    "\n",
    "fig, axs = plt.subplots(2, 2, figsize=(7,7))\n",
    "\n",
    "\n",
    "axs[0,0].hist(bo7_df[bo7_df['Round'] == 'Round 1']['SeriesLength'] )\n",
    "axs[0,0].set_title('Round 1')\n",
    "axs[0,0].set( ylabel='# Of Games')\n",
    "\n",
    "\n",
    "axs[0,1].hist(bo7_df[bo7_df['Round'] == 'Conf Semis']['SeriesLength'] )\n",
    "axs[0,1].set_title('Conference Semifinals')\n",
    "\n",
    "\n",
    "axs[1,0].hist(bo7_df[bo7_df['Round'] == 'Conf Finals']['SeriesLength'] )\n",
    "axs[1,0].set_title('Conference Finals')\n",
    "axs[1,0].set(xlabel=\"Length of Series\", ylabel='# Of Games')\n",
    "\n",
    "axs[1,1].hist(bo7_df[bo7_df['Round'] == 'NBA Finals']['SeriesLength'] )\n",
    "axs[1,1].set_title('NBA Finals')\n",
    "axs[1,1].set(xlabel=\"Length of Series\")\n",
    "\n",
    "\n"
   ]
  },
  {
   "cell_type": "markdown",
   "id": "4de59640",
   "metadata": {},
   "source": [
    "### A series is more likely to end in 6 games in the Conference Finals or NBA Finals than in Round 1 or the Conference Semifinals"
   ]
  },
  {
   "cell_type": "markdown",
   "id": "557c6fe7",
   "metadata": {},
   "source": [
    "## Are odds correlated with the length of the series, i.e.: is it the case that the bigger the underdog, the shorter the series?"
   ]
  },
  {
   "cell_type": "code",
   "execution_count": 57,
   "id": "ec378dac",
   "metadata": {},
   "outputs": [],
   "source": [
    "# Drop rows with null values in Odds1 or Odds2 column\n",
    "\n",
    "odds_filter = (bo7_df['Odds1'].isnull()) | (bo7_df['Odds2'].isnull())\n",
    "\n",
    "\n",
    "bo7_df = bo7_df[~odds_filter]"
   ]
  },
  {
   "cell_type": "code",
   "execution_count": 63,
   "id": "c3777c6c",
   "metadata": {},
   "outputs": [
    {
     "name": "stderr",
     "output_type": "stream",
     "text": [
      "/tmp/ipykernel_8616/1580436440.py:1: SettingWithCopyWarning: \n",
      "A value is trying to be set on a copy of a slice from a DataFrame.\n",
      "Try using .loc[row_indexer,col_indexer] = value instead\n",
      "\n",
      "See the caveats in the documentation: https://pandas.pydata.org/pandas-docs/stable/user_guide/indexing.html#returning-a-view-versus-a-copy\n",
      "  bo7_df['UnderdogOdds'] = bo7_df['Odds1'].combine(bo7_df['Odds2'], max)\n"
     ]
    }
   ],
   "source": [
    "bo7_df['UnderdogOdds'] = bo7_df['Odds1'].combine(bo7_df['Odds2'], max) "
   ]
  },
  {
   "cell_type": "code",
   "execution_count": 75,
   "id": "1f7f4f02",
   "metadata": {},
   "outputs": [
    {
     "data": {
      "text/plain": [
       "SeriesLength\n",
       "4.0    794.306667\n",
       "5.0    574.504132\n",
       "6.0    358.421053\n",
       "7.0    277.533981\n",
       "Name: UnderdogOdds, dtype: float64"
      ]
     },
     "execution_count": 75,
     "metadata": {},
     "output_type": "execute_result"
    }
   ],
   "source": [
    "bo7_df.groupby('SeriesLength')['UnderdogOdds'].mean()"
   ]
  },
  {
   "cell_type": "markdown",
   "id": "4f55d51c",
   "metadata": {},
   "source": [
    "### People are generally good at percieving which team is better before the series."
   ]
  },
  {
   "cell_type": "markdown",
   "id": "710e1b19",
   "metadata": {},
   "source": [
    "### On average the bigger the odds for the underdog, the quicker the series."
   ]
  },
  {
   "cell_type": "code",
   "execution_count": null,
   "id": "91f2596f",
   "metadata": {},
   "outputs": [],
   "source": []
  }
 ],
 "metadata": {
  "kernelspec": {
   "display_name": "Python 3 (ipykernel)",
   "language": "python",
   "name": "python3"
  },
  "language_info": {
   "codemirror_mode": {
    "name": "ipython",
    "version": 3
   },
   "file_extension": ".py",
   "mimetype": "text/x-python",
   "name": "python",
   "nbconvert_exporter": "python",
   "pygments_lexer": "ipython3",
   "version": "3.10.10"
  }
 },
 "nbformat": 4,
 "nbformat_minor": 5
}
