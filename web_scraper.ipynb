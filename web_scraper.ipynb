{
 "cells": [
  {
   "cell_type": "markdown",
   "id": "2d36956e",
   "metadata": {},
   "source": [
    "# Disclaimer\n",
    "\n",
    "NOTE: This notebook is not an endorsement of gambling of any nature and is purely for intellectual curiousity."
   ]
  },
  {
   "cell_type": "markdown",
   "id": "03679cb2",
   "metadata": {},
   "source": [
    "# Introduction\n",
    "\n",
    "Hello there fellow sports fans! Almost every basketball fan has once tried to predict the outcome of a playoff series, and in this notebook I will attempt to do the same. Before the start of every series Las Vegas releases betting odds of who they think is the favorite and by how much. (Click here to learn about American betting odds work https://www.vegasinsider.com/how-to-bet-sports/odds/#us). I will retroactively analyze the all the playoff series since 1969 to answer questions such as: 1.) How often did the favorite actually win the series? 2.) How often did the team with homecourt advantage win the series? 3.) What seed were the NBA champions historically?"
   ]
  },
  {
   "cell_type": "markdown",
   "id": "53b52bad",
   "metadata": {},
   "source": [
    "# Web Scraping\n",
    "\n",
    "Data will be sourced from https://www.sportsoddshistory.com/ and converted to .csv format"
   ]
  },
  {
   "cell_type": "code",
   "execution_count": null,
   "id": "7889331e",
   "metadata": {},
   "outputs": [],
   "source": [
    "import requests\n",
    "\n",
    "URL = \"https://www.sportsoddshistory.com/nba-playoffs-series/?y=all&o=s\"\n",
    "page = requests.get(URL)\n",
    "\n",
    "print(page.text)"
   ]
  },
  {
   "cell_type": "code",
   "execution_count": null,
   "id": "c0503fa4",
   "metadata": {},
   "outputs": [],
   "source": [
    "from bs4 import BeautifulSoup\n",
    "soup = BeautifulSoup(page.content, 'html.parser')\n",
    "\n",
    "all_playoff_series = soup.find_all(\"tr\")"
   ]
  },
  {
   "cell_type": "code",
   "execution_count": null,
   "id": "a15dd223",
   "metadata": {},
   "outputs": [],
   "source": [
    "for series in all_playoff_series:\n",
    "    print(series, end=\"\\n\"*2)\n"
   ]
  },
  {
   "cell_type": "code",
   "execution_count": null,
   "id": "a2a4f354",
   "metadata": {},
   "outputs": [],
   "source": [
    "# Remove first and last elements of list since these do not represent playoff data\n",
    "\n",
    "all_playoff_series = all_playoff_series[1:-1]"
   ]
  },
  {
   "cell_type": "code",
   "execution_count": null,
   "id": "735e3be6",
   "metadata": {},
   "outputs": [],
   "source": [
    "for series in all_playoff_series:\n",
    "    print(series, end=\"\\n\"*2)"
   ]
  },
  {
   "cell_type": "code",
   "execution_count": null,
   "id": "95163dc6",
   "metadata": {},
   "outputs": [],
   "source": [
    "import re\n",
    "\n",
    "pattern = re.compile(r'(.*) \\((\\d)\\)')\n",
    "\n",
    "# Take each table row and convert data to csv format\n",
    "def row_to_string(row):\n",
    "    td_elements = row.find_all('td')\n",
    "    return_str = ''\n",
    "    for td in td_elements:\n",
    "        text = td.text.strip()\n",
    "        \n",
    "        # Split 'Team (Seed#)' into 'Team,Seed#'\n",
    "        if (re.fullmatch(pattern, text)):\n",
    "            team_seed_str = re.split(pattern, text)\n",
    "            return_str += team_seed_str[1] + ',' + team_seed_str[2] + ','\n",
    "        else:\n",
    "            return_str += text + ','\n",
    "    \n",
    "    # Remove trailing comma\n",
    "    return_str = return_str[:-1]\n",
    "    return return_str"
   ]
  },
  {
   "cell_type": "code",
   "execution_count": null,
   "id": "5e85bbf0",
   "metadata": {},
   "outputs": [],
   "source": [
    "row_to_string(all_playoff_series[50])"
   ]
  },
  {
   "cell_type": "code",
   "execution_count": null,
   "id": "130b576a",
   "metadata": {},
   "outputs": [],
   "source": [
    "csv_rows = []\n",
    "for series in all_playoff_series:\n",
    "    csv_rows.append(row_to_string(series))"
   ]
  },
  {
   "cell_type": "code",
   "execution_count": null,
   "id": "0ce2cbff",
   "metadata": {},
   "outputs": [],
   "source": [
    "csv_rows"
   ]
  },
  {
   "cell_type": "code",
   "execution_count": null,
   "id": "da55ec84",
   "metadata": {},
   "outputs": [],
   "source": [
    "csv_header = 'Year,Conference,Round,Team1,Seed1,Odds1,Team2,Seed2,Odds2,WinningTeam,Result'"
   ]
  },
  {
   "cell_type": "code",
   "execution_count": null,
   "id": "9d6179d3",
   "metadata": {},
   "outputs": [],
   "source": [
    "import os\n",
    "\n",
    "if not(os.path.exists('playoffs.csv')):\n",
    "    f = open('playoffs.csv', 'w')\n",
    "    f.write(csv_header + '\\n')\n",
    "    for row in csv_rows:\n",
    "        f.write(row + '\\n')\n",
    "    f.close()"
   ]
  },
  {
   "cell_type": "code",
   "execution_count": null,
   "id": "2109b3cd",
   "metadata": {},
   "outputs": [],
   "source": []
  }
 ],
 "metadata": {
  "kernelspec": {
   "display_name": "Python 3 (ipykernel)",
   "language": "python",
   "name": "python3"
  },
  "language_info": {
   "codemirror_mode": {
    "name": "ipython",
    "version": 3
   },
   "file_extension": ".py",
   "mimetype": "text/x-python",
   "name": "python",
   "nbconvert_exporter": "python",
   "pygments_lexer": "ipython3",
   "version": "3.10.10"
  }
 },
 "nbformat": 4,
 "nbformat_minor": 5
}
